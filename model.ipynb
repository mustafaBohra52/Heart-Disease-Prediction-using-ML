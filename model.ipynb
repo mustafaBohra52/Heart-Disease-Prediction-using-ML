{
 "cells": [
  {
   "cell_type": "code",
   "execution_count": 1,
   "metadata": {},
   "outputs": [],
   "source": [
    "import pandas as pd\n",
    "import seaborn as sns\n",
    "from sklearn.linear_model import LogisticRegression\n",
    "import pickle\n",
    "import matplotlib.pyplot as plt\n",
    "import numpy as np\n",
    "df= pd.read_csv('heart.csv')\n",
    "df.drop_duplicates()\n",
    "y=df['target']\n",
    "X=df[['age','sex','cp','trestbps','chol','fbs','restecg','thalach','slope','thal']]\n",
    "from sklearn import metrics\n",
    "from sklearn.preprocessing import StandardScaler\n",
    "from sklearn.model_selection import train_test_split\n",
    "X_train,X_test,y_train,y_test=train_test_split(X,y,test_size=0.20,random_state=0)\n",
    "X_scale=StandardScaler()\n",
    "train_X=X_scale.fit_transform(X_train)\n",
    "test_X=X_scale.fit_transform(X_test)\n",
    "model=LogisticRegression()\n",
    "model.fit(train_X,y_train)\n",
    "\n",
    "pickle.dump(model, open('data.pkl','wb'))\n",
    "data = pickle.load(open('data.pkl','rb'))\n",
    "\n",
    "# Loading model to compare the results\n",
    "data = pickle.load(open('data.pkl','rb'))"
   ]
  },
  {
   "cell_type": "code",
   "execution_count": null,
   "metadata": {},
   "outputs": [],
   "source": []
  }
 ],
 "metadata": {
  "kernelspec": {
   "display_name": "Python 3",
   "language": "python",
   "name": "python3"
  },
  "language_info": {
   "codemirror_mode": {
    "name": "ipython",
    "version": 3
   },
   "file_extension": ".py",
   "mimetype": "text/x-python",
   "name": "python",
   "nbconvert_exporter": "python",
   "pygments_lexer": "ipython3",
   "version": "3.7.4"
  }
 },
 "nbformat": 4,
 "nbformat_minor": 5
}
